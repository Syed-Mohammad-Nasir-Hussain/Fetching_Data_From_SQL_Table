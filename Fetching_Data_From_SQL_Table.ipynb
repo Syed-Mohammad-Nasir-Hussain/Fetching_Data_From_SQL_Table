{
 "cells": [
  {
   "cell_type": "markdown",
   "id": "5be1f8a9",
   "metadata": {},
   "source": [
    "# Installing Required Libraries"
   ]
  },
  {
   "cell_type": "code",
   "execution_count": 1,
   "id": "872f51db",
   "metadata": {},
   "outputs": [
    {
     "name": "stdout",
     "output_type": "stream",
     "text": [
      "Requirement already satisfied: pymysql in c:\\users\\user007\\appdata\\local\\programs\\python\\python310\\lib\\site-packages (1.0.2)\n"
     ]
    }
   ],
   "source": [
    "!pip install pymysql"
   ]
  },
  {
   "cell_type": "code",
   "execution_count": 2,
   "id": "9fe0d7e1",
   "metadata": {},
   "outputs": [
    {
     "name": "stdout",
     "output_type": "stream",
     "text": [
      "Requirement already satisfied: pandas in c:\\users\\user007\\appdata\\local\\programs\\python\\python310\\lib\\site-packages (1.5.0)\n",
      "Requirement already satisfied: numpy>=1.21.0 in c:\\users\\user007\\appdata\\local\\programs\\python\\python310\\lib\\site-packages (from pandas) (1.23.3)\n",
      "Requirement already satisfied: pytz>=2020.1 in c:\\users\\user007\\appdata\\local\\programs\\python\\python310\\lib\\site-packages (from pandas) (2022.4)\n",
      "Requirement already satisfied: python-dateutil>=2.8.1 in c:\\users\\user007\\appdata\\local\\programs\\python\\python310\\lib\\site-packages (from pandas) (2.8.2)\n",
      "Requirement already satisfied: six>=1.5 in c:\\users\\user007\\appdata\\local\\programs\\python\\python310\\lib\\site-packages (from python-dateutil>=2.8.1->pandas) (1.16.0)\n"
     ]
    }
   ],
   "source": [
    "!pip install pandas"
   ]
  },
  {
   "cell_type": "markdown",
   "id": "8d734dcd",
   "metadata": {},
   "source": [
    "### Importing Required Libraries"
   ]
  },
  {
   "cell_type": "code",
   "execution_count": 3,
   "id": "77ec5d44",
   "metadata": {},
   "outputs": [],
   "source": [
    "import pymysql\n",
    "import pandas as pd"
   ]
  },
  {
   "cell_type": "markdown",
   "id": "2eb74c1a",
   "metadata": {},
   "source": [
    "### Creating Sql Connection by providing required host,user,password and database name"
   ]
  },
  {
   "cell_type": "code",
   "execution_count": 4,
   "id": "6d48e49c",
   "metadata": {},
   "outputs": [],
   "source": [
    "# Use your host,user,password and database name as you would have created or shared by the team\n",
    "db=pymysql.connect(host=\"localhost\",user=\"root\",\n",
    "                  password=\"xxxxxxxx\",database=\"test\")"
   ]
  },
  {
   "cell_type": "markdown",
   "id": "3ec527a4",
   "metadata": {},
   "source": [
    "### Creating a cursor object using the cursor() method"
   ]
  },
  {
   "cell_type": "code",
   "execution_count": 5,
   "id": "f3bb917f",
   "metadata": {},
   "outputs": [],
   "source": [
    "cursor=db.cursor()"
   ]
  },
  {
   "cell_type": "markdown",
   "id": "a045f547",
   "metadata": {},
   "source": [
    "### Executing query to fetch the data we required"
   ]
  },
  {
   "cell_type": "code",
   "execution_count": 6,
   "id": "f3fdd197",
   "metadata": {},
   "outputs": [
    {
     "data": {
      "text/plain": [
       "3"
      ]
     },
     "execution_count": 6,
     "metadata": {},
     "output_type": "execute_result"
    }
   ],
   "source": [
    "cursor.execute(\"select * from students\")"
   ]
  },
  {
   "cell_type": "markdown",
   "id": "493ed922",
   "metadata": {},
   "source": [
    "### Converting the data to dataframe"
   ]
  },
  {
   "cell_type": "code",
   "execution_count": 7,
   "id": "b69ba870",
   "metadata": {},
   "outputs": [],
   "source": [
    "data=pd.DataFrame(cursor.fetchall())"
   ]
  },
  {
   "cell_type": "markdown",
   "id": "3a2128b3",
   "metadata": {},
   "source": [
    "### Getting columns to the dataframe"
   ]
  },
  {
   "cell_type": "code",
   "execution_count": 8,
   "id": "9d3e37bc",
   "metadata": {},
   "outputs": [],
   "source": [
    "col=[]\n",
    "for i in cursor.description:\n",
    "    col.append(i[0])"
   ]
  },
  {
   "cell_type": "code",
   "execution_count": 9,
   "id": "fde0d830",
   "metadata": {},
   "outputs": [],
   "source": [
    "data.columns=col"
   ]
  },
  {
   "cell_type": "markdown",
   "id": "18cedcd3",
   "metadata": {},
   "source": [
    "### Result"
   ]
  },
  {
   "cell_type": "code",
   "execution_count": 10,
   "id": "a127bcdd",
   "metadata": {},
   "outputs": [
    {
     "data": {
      "text/html": [
       "<div>\n",
       "<style scoped>\n",
       "    .dataframe tbody tr th:only-of-type {\n",
       "        vertical-align: middle;\n",
       "    }\n",
       "\n",
       "    .dataframe tbody tr th {\n",
       "        vertical-align: top;\n",
       "    }\n",
       "\n",
       "    .dataframe thead th {\n",
       "        text-align: right;\n",
       "    }\n",
       "</style>\n",
       "<table border=\"1\" class=\"dataframe\">\n",
       "  <thead>\n",
       "    <tr style=\"text-align: right;\">\n",
       "      <th></th>\n",
       "      <th>ID</th>\n",
       "      <th>NAME</th>\n",
       "      <th>AGE</th>\n",
       "      <th>ADDRESS</th>\n",
       "    </tr>\n",
       "  </thead>\n",
       "  <tbody>\n",
       "    <tr>\n",
       "      <th>0</th>\n",
       "      <td>1</td>\n",
       "      <td>nasir</td>\n",
       "      <td>26</td>\n",
       "      <td>Madanapalle</td>\n",
       "    </tr>\n",
       "    <tr>\n",
       "      <th>1</th>\n",
       "      <td>2</td>\n",
       "      <td>suhel</td>\n",
       "      <td>24</td>\n",
       "      <td>Bangalore</td>\n",
       "    </tr>\n",
       "    <tr>\n",
       "      <th>2</th>\n",
       "      <td>3</td>\n",
       "      <td>irfan</td>\n",
       "      <td>28</td>\n",
       "      <td>Kadapa</td>\n",
       "    </tr>\n",
       "  </tbody>\n",
       "</table>\n",
       "</div>"
      ],
      "text/plain": [
       "   ID   NAME  AGE      ADDRESS\n",
       "0   1  nasir   26  Madanapalle\n",
       "1   2  suhel   24    Bangalore\n",
       "2   3  irfan   28       Kadapa"
      ]
     },
     "execution_count": 10,
     "metadata": {},
     "output_type": "execute_result"
    }
   ],
   "source": [
    "data"
   ]
  },
  {
   "cell_type": "markdown",
   "id": "f0ebae9a",
   "metadata": {},
   "source": [
    "### Closing the connection"
   ]
  },
  {
   "cell_type": "code",
   "execution_count": 11,
   "id": "d689fbcd",
   "metadata": {},
   "outputs": [],
   "source": [
    "cursor.close()"
   ]
  }
 ],
 "metadata": {
  "kernelspec": {
   "display_name": "Python 3 (ipykernel)",
   "language": "python",
   "name": "python3"
  },
  "language_info": {
   "codemirror_mode": {
    "name": "ipython",
    "version": 3
   },
   "file_extension": ".py",
   "mimetype": "text/x-python",
   "name": "python",
   "nbconvert_exporter": "python",
   "pygments_lexer": "ipython3",
   "version": "3.10.7"
  }
 },
 "nbformat": 4,
 "nbformat_minor": 5
}
